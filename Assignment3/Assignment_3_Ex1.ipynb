{
 "cells": [
  {
   "cell_type": "code",
   "execution_count": 3,
   "metadata": {},
   "outputs": [
    {
     "name": "stdout",
     "output_type": "stream",
     "text": [
      "[1, 2, 3, 4, 6, 12] include 2 and 3 and 4\n",
      "[1, 2, 3, 4, 6, 8, 12, 24] include 2 and 3 and 4\n",
      "[1, 5, 7, 35] include 5 and 7\n",
      "[1, 2, 3, 4, 6, 9, 12, 18, 36] include 2 and 3 and 4\n",
      "[1, 2, 3, 4, 6, 8, 12, 16, 24, 48] include 2 and 3 and 4\n",
      "[1, 2, 3, 4, 5, 6, 10, 12, 15, 20, 30, 60] include 2 and 3 and 4\n",
      "[1, 2, 5, 7, 10, 14, 35, 70] include 5 and 7\n",
      "[1, 2, 3, 4, 6, 8, 9, 12, 18, 24, 36, 72] include 2 and 3 and 4\n",
      "[1, 2, 3, 4, 6, 7, 12, 14, 21, 28, 42, 84] include 2 and 3 and 4\n",
      "[1, 2, 3, 4, 6, 8, 12, 16, 24, 32, 48, 96] include 2 and 3 and 4\n",
      "1 : 100 2 : 50 3 : 33 4 : 25 5 : 20 6 : 16 7 : 14 8 : 12 9 : 11 10 : 10 11 : 9 12 : 8 13 : 7 14 : 7 15 : 6 16 : 6 17 : 5 18 : 5 19 : 5 20 : 5 21 : 4 22 : 4 23 : 4 24 : 4 25 : 4 26 : 3 27 : 3 28 : 3 29 : 3 30 : 3 31 : 3 32 : 3 33 : 3 34 : 2 35 : 2 36 : 2 37 : 2 38 : 2 39 : 2 40 : 2 41 : 2 42 : 2 43 : 2 44 : 2 45 : 2 46 : 2 47 : 2 48 : 2 49 : 2 50 : 2 51 : 1 52 : 1 53 : 1 54 : 1 55 : 1 56 : 1 57 : 1 58 : 1 59 : 1 60 : 1 61 : 1 62 : 1 63 : 1 64 : 1 65 : 1 66 : 1 67 : 1 68 : 1 69 : 1 70 : 1 71 : 1 72 : 1 73 : 1 74 : 1 75 : 1 76 : 1 77 : 1 78 : 1 79 : 1 80 : 1 81 : 1 82 : 1 83 : 1 84 : 1 85 : 1 86 : 1 87 : 1 88 : 1 89 : 1 90 : 1 91 : 1 92 : 1 93 : 1 94 : 1 95 : 1 96 : 1 97 : 1 98 : 1 99 : 1 100 : 1 "
     ]
    }
   ],
   "source": [
    "freq_dic = {}\n",
    "for i in range(1,101):\n",
    "    remainList = [];\n",
    "    for j in range(1,101):\n",
    "        if(i%j == 0):\n",
    "            remainList.append(j);\n",
    "            freq_dic.setdefault(j,0);\n",
    "            freq_dic[j]+=1\n",
    "    if (5 in remainList and 7 in remainList):\n",
    "        print(remainList,\"include 5 and 7\");\n",
    "    if (2 in remainList and 3 in remainList and 4 in remainList):\n",
    "        print(remainList,\"include 2 and 3 and 4\");\n",
    "#print(freq_dic);\n",
    "result = sorted(freq_dic, key=freq_dic.get, reverse = True)\n",
    "for key in result:\n",
    "    print(key, \":\", freq_dic[key],end=' ')"
   ]
  },
  {
   "cell_type": "code",
   "execution_count": null,
   "metadata": {},
   "outputs": [],
   "source": []
  }
 ],
 "metadata": {
  "kernelspec": {
   "display_name": "Python 3",
   "language": "python",
   "name": "python3"
  },
  "language_info": {
   "codemirror_mode": {
    "name": "ipython",
    "version": 3
   },
   "file_extension": ".py",
   "mimetype": "text/x-python",
   "name": "python",
   "nbconvert_exporter": "python",
   "pygments_lexer": "ipython3",
   "version": "3.8.5"
  }
 },
 "nbformat": 4,
 "nbformat_minor": 4
}
