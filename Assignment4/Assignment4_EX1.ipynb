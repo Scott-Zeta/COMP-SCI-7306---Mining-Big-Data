{
 "cells": [
  {
   "cell_type": "code",
   "execution_count": 1,
   "metadata": {},
   "outputs": [
    {
     "name": "stdout",
     "output_type": "stream",
     "text": [
      "[1. 1. 0. 1. 1. 0. 1. 1.]\n",
      "[0. 1. 1. 1. 1. 1. 1. 0.]\n",
      "[1. 0. 1. 1. 0. 1. 1. 1.]\n",
      "0.5\n",
      "0.5\n",
      "0.5\n",
      "0.33333333333333337\n",
      "0.33333333333333337\n",
      "0.33333333333333337\n"
     ]
    }
   ],
   "source": [
    "import numpy as np\n",
    "from scipy.spatial.distance import jaccard\n",
    "from scipy.spatial import distance\n",
    "from numpy import dot\n",
    "from numpy.linalg import norm\n",
    "\n",
    "A = np.array([4,5,0,5,1,0,3,2])\n",
    "B = np.array([0,3,4,3,1,2,1,0])\n",
    "C = np.array([2,0,1,3,0,4,5,3])\n",
    "\n",
    "\n",
    "def to_bool(array):\n",
    "    result = np.array([])\n",
    "    for num in array:\n",
    "        if (num != 0):\n",
    "            num = 1;\n",
    "        result = np.append(result,num);\n",
    "    return result;\n",
    "\n",
    "A_bool = to_bool(A);\n",
    "B_bool = to_bool(B);\n",
    "C_bool = to_bool(C);\n",
    "\n",
    "D_AB = jaccard(A_bool,B_bool)\n",
    "D_AC = jaccard(A_bool,B_bool)\n",
    "D_BC = jaccard(B_bool,C_bool)\n",
    "print(A_bool)\n",
    "print(B_bool)\n",
    "print(C_bool)\n",
    "print(D_AB)\n",
    "print(D_AC)\n",
    "print(D_BC)\n",
    "\n",
    "print(distance.cosine(A_bool,B_bool))\n",
    "print(distance.cosine(A_bool,C_bool))\n",
    "print(distance.cosine(B_bool,C_bool))"
   ]
  },
  {
   "cell_type": "code",
   "execution_count": 2,
   "metadata": {},
   "outputs": [
    {
     "name": "stdout",
     "output_type": "stream",
     "text": [
      "[1. 1. 0. 1. 0. 0. 1. 0.]\n",
      "[0. 1. 1. 1. 0. 0. 0. 0.]\n",
      "[0. 0. 0. 1. 0. 1. 1. 1.]\n",
      "0.6\n",
      "0.6666666666666666\n",
      "0.8333333333333334\n",
      "0.42264973081037416\n",
      "0.5\n",
      "0.7113248654051871\n"
     ]
    }
   ],
   "source": [
    "def to_cluster(array):\n",
    "    result = np.array([])\n",
    "    for num in array:\n",
    "        if (num >= 3):\n",
    "            num = 1;\n",
    "        else:\n",
    "            num = 0;\n",
    "        result = np.append(result,num);\n",
    "    return result;\n",
    "\n",
    "A_clu = to_cluster(A);\n",
    "B_clu = to_cluster(B);\n",
    "C_clu = to_cluster(C);\n",
    "print(A_clu)\n",
    "print(B_clu)\n",
    "print(C_clu)\n",
    "\n",
    "print(jaccard(A_clu,B_clu))\n",
    "print(jaccard(A_clu,C_clu))\n",
    "print(jaccard(B_clu,C_clu))\n",
    "\n",
    "print(distance.cosine(A_clu,B_clu))\n",
    "print(distance.cosine(A_clu,C_clu))\n",
    "print(distance.cosine(B_clu,C_clu))"
   ]
  },
  {
   "cell_type": "code",
   "execution_count": 3,
   "metadata": {},
   "outputs": [
    {
     "name": "stdout",
     "output_type": "stream",
     "text": [
      "[ 0.66666667  1.66666667  0.          1.66666667 -2.33333333  0.\n",
      " -0.33333333 -1.33333333]\n",
      "[ 0.          0.66666667  1.66666667  0.66666667 -1.33333333 -0.33333333\n",
      " -1.33333333  0.        ]\n",
      "[-1.  0. -2.  0.  0.  1.  2.  0.]\n",
      "0.41569345253185686\n",
      "1.1154700538379252\n",
      "1.739573996953447\n"
     ]
    }
   ],
   "source": [
    "def to_norm(array):\n",
    "    result = np.array([])\n",
    "    mean = array[np.nonzero(array)].mean()\n",
    "    for num in array:\n",
    "        if (num != 0):\n",
    "            num = num - mean;\n",
    "        result = np.append(result,num);\n",
    "    return result;\n",
    "A_norm = to_norm(A)\n",
    "B_norm = to_norm(B)\n",
    "C_norm = to_norm(C)\n",
    "print(A_norm)\n",
    "print(B_norm)\n",
    "print(C_norm)\n",
    "\n",
    "print(distance.cosine(A_norm,B_norm))\n",
    "print(distance.cosine(A_norm,C_norm))\n",
    "print(distance.cosine(B_norm,C_norm))"
   ]
  }
 ],
 "metadata": {
  "kernelspec": {
   "display_name": "Python 3",
   "language": "python",
   "name": "python3"
  },
  "language_info": {
   "codemirror_mode": {
    "name": "ipython",
    "version": 3
   },
   "file_extension": ".py",
   "mimetype": "text/x-python",
   "name": "python",
   "nbconvert_exporter": "python",
   "pygments_lexer": "ipython3",
   "version": "3.8.5"
  }
 },
 "nbformat": 4,
 "nbformat_minor": 4
}
